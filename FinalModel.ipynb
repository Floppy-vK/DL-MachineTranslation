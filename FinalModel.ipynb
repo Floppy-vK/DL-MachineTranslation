{
 "cells": [
  {
   "attachments": {},
   "cell_type": "markdown",
   "metadata": {},
   "source": [
    "This skeleton code will get you started with the assignment."
   ]
  },
  {
   "attachments": {},
   "cell_type": "markdown",
   "metadata": {},
   "source": [
    "For this assignment you will need at least:\n",
    "\n",
    "- Pytorch 1.13+\n",
    "- Sklearn\n",
    "- Matplotlib"
   ]
  },
  {
   "cell_type": "code",
   "execution_count": 7,
   "metadata": {
    "execution": {
     "iopub.execute_input": "2023-05-22T13:27:37.049352Z",
     "iopub.status.busy": "2023-05-22T13:27:37.048349Z",
     "iopub.status.idle": "2023-05-22T13:27:45.123111Z",
     "shell.execute_reply": "2023-05-22T13:27:45.121361Z",
     "shell.execute_reply.started": "2023-05-22T13:27:37.049352Z"
    },
    "tags": []
   },
   "outputs": [],
   "source": [
    "import torch\n",
    "import numpy as np\n",
    "import matplotlib.pyplot as plt\n",
    "from sklearn.model_selection import train_test_split\n",
    "\n",
    "from IPython.display import Audio\n",
    "from torchinfo import summary\n",
    "\n",
    "#possibly unnecessary:\n",
    "import torch.nn as nn\n",
    "import torch.utils.data as data_utils\n",
    "import logging\n",
    "from torch import optim\n",
    "from torchaudio import transforms"
   ]
  },
  {
   "cell_type": "code",
   "execution_count": 8,
   "metadata": {
    "execution": {
     "iopub.execute_input": "2023-05-22T13:27:45.127156Z",
     "iopub.status.busy": "2023-05-22T13:27:45.125113Z",
     "iopub.status.idle": "2023-05-22T13:27:45.139327Z",
     "shell.execute_reply": "2023-05-22T13:27:45.137148Z",
     "shell.execute_reply.started": "2023-05-22T13:27:45.127156Z"
    }
   },
   "outputs": [
    {
     "name": "stdout",
     "output_type": "stream",
     "text": [
      "Device: cuda:0\n"
     ]
    }
   ],
   "source": [
    "device = torch.device(\"cuda:0\" if torch.cuda.is_available() else \"cpu\")\n",
    "print(\"Device: {}\".format(device))"
   ]
  },
  {
   "attachments": {},
   "cell_type": "markdown",
   "metadata": {},
   "source": [
    "### Data Loading\n",
    "The data consists of waveforms of audioclips sampled 8000 times per second (8 khz).\n",
    "The data is stored in 16 bit precision to reduce storage size. We first need to\n",
    "convert the waveforms to 32 bit precision."
   ]
  },
  {
   "cell_type": "code",
   "execution_count": 9,
   "metadata": {
    "execution": {
     "iopub.execute_input": "2023-05-22T13:27:45.142115Z",
     "iopub.status.busy": "2023-05-22T13:27:45.141112Z",
     "iopub.status.idle": "2023-05-22T13:27:49.872318Z",
     "shell.execute_reply": "2023-05-22T13:27:49.861314Z",
     "shell.execute_reply.started": "2023-05-22T13:27:45.142115Z"
    }
   },
   "outputs": [],
   "source": [
    "sampling_rate = 8_000\n",
    "languages = [\"de\", \"en\", \"es\", \"fr\", \"nl\", \"pt\"]\n",
    "language_dict = {languages[i]: i for i in range(len(languages))}\n",
    "\n",
    "def load_langs():\n",
    "    X_train, y_train = np.load(\"dataset/inputs_train_fp16.npy\"), np.load(\n",
    "        \"dataset/targets_train_int8.npy\"\n",
    "    )\n",
    "    X_test, y_test = np.load(\"dataset/inputs_test_fp16.npy\"), np.load(\n",
    "        \"dataset/targets_test_int8.npy\"\n",
    "    )\n",
    "\n",
    "    X_train, X_test = X_train.astype(np.float32), X_test.astype(np.float32)\n",
    "\n",
    "    return X_train, X_test, y_train, y_test"
   ]
  },
  {
   "cell_type": "code",
   "execution_count": 46,
   "metadata": {},
   "outputs": [],
   "source": [
    "X_train, X_test, y_train, y_test = load_langs()\n",
    "\n",
    "# input\n",
    "tensor_X_train = torch.from_numpy(X_train)\n",
    "tensor_X_test = torch.from_numpy(X_test)\n",
    "\n",
    "# target\n",
    "tensor_y_train = torch.from_numpy(y_train)\n",
    "tensor_y_test = torch.from_numpy(y_test)\n",
    "\n",
    "# One-hot encoding and prep for use in model\n",
    "BATCH_SIZE = 100\n",
    "\n",
    "training = tensor_X_train\n",
    "target_train = tensor_y_train.to(device)\n",
    "target_train_ohe = nn.functional.one_hot(target_train.long(), 6).float()\n",
    "\n",
    "test = tensor_X_test\n",
    "target_test = tensor_y_test.to(device)\n",
    "target_test_ohe = nn.functional.one_hot(target_test.long(), 6).float()\n",
    "\n",
    "train_dataset = data_utils.TensorDataset(training, target_train_ohe) # unsqueeze so it gets shape (64, 1, 40, 201)\n",
    "train_loader = data_utils.DataLoader(train_dataset, batch_size=BATCH_SIZE, shuffle=False) \n",
    "\n",
    "test_dataset = data_utils.TensorDataset(test, target_test_ohe)\n",
    "test_loader = data_utils.DataLoader(test_dataset, batch_size=BATCH_SIZE, shuffle=False)"
   ]
  },
  {
   "attachments": {},
   "cell_type": "markdown",
   "metadata": {
    "tags": []
   },
   "source": [
    "### Data pre-processing\n",
    "\n",
    "It is important that data preprocessing takes place in the model itself,\n",
    "as only the model will be uploaded to the competition server.\n",
    "\n",
    "So, rather than the usual, we will perform normalization and other preprocessing\n",
    "steps as layers of the network. To help you with this, we provide an example of\n",
    "a bogus normalization below.\n"
   ]
  },
  {
   "attachments": {},
   "cell_type": "markdown",
   "metadata": {},
   "source": [
    "Here, we multiply the input by a constant and subtract the max of each sample.\n",
    "Follow this format to create your own normalization layer(s)."
   ]
  },
  {
   "cell_type": "code",
   "execution_count": 47,
   "metadata": {
    "execution": {
     "iopub.execute_input": "2023-05-22T13:27:52.785362Z",
     "iopub.status.busy": "2023-05-22T13:27:52.784362Z",
     "iopub.status.idle": "2023-05-22T13:27:52.959364Z",
     "shell.execute_reply": "2023-05-22T13:27:52.957361Z",
     "shell.execute_reply.started": "2023-05-22T13:27:52.785362Z"
    }
   },
   "outputs": [],
   "source": [
    "# normalization with MFCC\n",
    "\n",
    "class MFCC_layer(nn.Module):\n",
    "    def __init__(self):\n",
    "        super().__init__()\n",
    "        self.sample_rate = 40000/5\n",
    "        self.transform_MFCC = transforms.MFCC(sample_rate = self.sample_rate)\n",
    "\n",
    "    def forward(self, x):\n",
    "        with torch.no_grad():\n",
    "            x = x.unsqueeze(1)\n",
    "            x = self.transform_MFCC(x)\n",
    "        return x\n"
   ]
  },
  {
   "attachments": {},
   "cell_type": "markdown",
   "metadata": {},
   "source": [
    "### CNN model multi-class"
   ]
  },
  {
   "cell_type": "code",
   "execution_count": 48,
   "metadata": {},
   "outputs": [
    {
     "data": {
      "text/plain": [
       "==========================================================================================\n",
       "Layer (type:depth-idx)                   Output Shape              Param #\n",
       "==========================================================================================\n",
       "Sequential                               [1, 6]                    --\n",
       "├─MFCC_layer: 1-1                        [1, 1, 40, 201]           --\n",
       "│    └─MFCC: 2-1                         [1, 1, 40, 201]           --\n",
       "│    │    └─MelSpectrogram: 3-1          [1, 1, 128, 201]          --\n",
       "│    │    └─AmplitudeToDB: 3-2           [1, 1, 128, 201]          --\n",
       "├─Conv2d: 1-2                            [1, 32, 40, 201]          320\n",
       "├─ReLU: 1-3                              [1, 32, 40, 201]          --\n",
       "├─BatchNorm2d: 1-4                       [1, 32, 40, 201]          64\n",
       "├─MaxPool2d: 1-5                         [1, 32, 21, 101]          --\n",
       "├─Conv2d: 1-6                            [1, 64, 21, 101]          18,496\n",
       "├─ReLU: 1-7                              [1, 64, 21, 101]          --\n",
       "├─BatchNorm2d: 1-8                       [1, 64, 21, 101]          128\n",
       "├─MaxPool2d: 1-9                         [1, 64, 11, 51]           --\n",
       "├─Conv2d: 1-10                           [1, 64, 11, 51]           36,928\n",
       "├─ReLU: 1-11                             [1, 64, 11, 51]           --\n",
       "├─BatchNorm2d: 1-12                      [1, 64, 11, 51]           128\n",
       "├─Conv2d: 1-13                           [1, 128, 11, 51]          73,856\n",
       "├─ReLU: 1-14                             [1, 128, 11, 51]          --\n",
       "├─BatchNorm2d: 1-15                      [1, 128, 11, 51]          256\n",
       "├─AvgPool2d: 1-16                        [1, 128, 1, 1]            --\n",
       "├─Flatten: 1-17                          [1, 128]                  --\n",
       "├─Linear: 1-18                           [1, 6]                    774\n",
       "├─Softmax: 1-19                          [1, 6]                    --\n",
       "==========================================================================================\n",
       "Total params: 130,950\n",
       "Trainable params: 130,950\n",
       "Non-trainable params: 0\n",
       "Total mult-adds (M): 103.95\n",
       "==========================================================================================\n",
       "Input size (MB): 0.16\n",
       "Forward/backward pass size (MB): 8.01\n",
       "Params size (MB): 0.52\n",
       "Estimated Total Size (MB): 8.70\n",
       "=========================================================================================="
      ]
     },
     "execution_count": 48,
     "metadata": {},
     "output_type": "execute_result"
    }
   ],
   "source": [
    "# Create a sequential model - CNN\n",
    "# (batch, channel, image height, image width)\n",
    "    \n",
    "MFCC_transformation = MFCC_layer()\n",
    "\n",
    "model = nn.Sequential(MFCC_transformation)\n",
    "\n",
    "# Add convolutional and pooling layers\n",
    "model.add_module('Conv_1', nn.Conv2d(in_channels=1, out_channels=32, kernel_size=(3,3), padding=1))\n",
    "model.add_module('Relu_1', nn.ReLU())\n",
    "model.add_module('BatchNorm_1', nn.BatchNorm2d(num_features=32))\n",
    "\n",
    "model.add_module('MaxPool_1', nn.MaxPool2d(kernel_size=2, padding=1))\n",
    "\n",
    "model.add_module('Conv_2', nn.Conv2d(in_channels=32, out_channels=64, kernel_size=(3,3), padding=1))\n",
    "model.add_module('Relu_2', nn.ReLU())\n",
    "model.add_module('BatchNorm_2', nn.BatchNorm2d(num_features=64))\n",
    "\n",
    "model.add_module('MaxPool_2', nn.MaxPool2d(kernel_size=2, padding=1))\n",
    "\n",
    "model.add_module('Conv_3', nn.Conv2d(in_channels=64, out_channels=64, kernel_size=(3,3), padding=1))\n",
    "model.add_module('Relu_3', nn.ReLU())\n",
    "model.add_module('BatchNorm_3', nn.BatchNorm2d(num_features=64))\n",
    "\n",
    "model.add_module('Conv_4', nn.Conv2d(in_channels=64, out_channels=128, kernel_size=(3,3), padding=1))\n",
    "model.add_module('Relu_4', nn.ReLU())\n",
    "model.add_module('BatchNorm_4', nn.BatchNorm2d(num_features=128))\n",
    "\n",
    "#\"\"\"\"\"\n",
    "model.add_module('GlobalPool_1', nn.AvgPool2d(kernel_size=(11,51)))\n",
    "model.add_module('Flatten', nn.Flatten())\n",
    "model.add_module('Linear_1', nn.Linear(in_features=128, out_features=6))\n",
    "\n",
    "\n",
    "model.add_module('Out_activation', nn.Softmax(1))\n",
    "\n",
    "#\"\"\"\"\"\n",
    "\n",
    "model = model.to(device)\n",
    "\n",
    "summary(model, input_size=(1,40_000))"
   ]
  },
  {
   "cell_type": "code",
   "execution_count": 49,
   "metadata": {
    "tags": []
   },
   "outputs": [],
   "source": [
    "optimizer = optim.Adam(model.parameters(), lr=0.001) \n",
    "crossentropy_loss = nn.CrossEntropyLoss(reduction='mean')\n",
    "num_epochs = 20\n",
    "\n",
    "N_TRAIN = 6000\n",
    "N_TEST = 1200\n",
    "\n",
    "model.train() \n",
    "\n",
    "iterations = 0\n",
    "train_accuracies = []\n",
    "train_losses = []\n",
    "test_accuracies = []\n",
    "test_losses = []\n",
    "\n",
    "for epoch in range(num_epochs):\n",
    "    model.train()\n",
    "\n",
    "    for images, labels in train_loader: \n",
    "        model.train()\n",
    "        images = images.to(device)\n",
    "        labels = labels.to(device)\n",
    "        optimizer.zero_grad()\n",
    "        # Get the predictions from the model           \n",
    "        predictions = model(images)\n",
    "\n",
    "        #  Calculate the loss and backpropagate\n",
    "        loss = crossentropy_loss(predictions, labels)\n",
    "        loss.backward() \n",
    "        optimizer.step()\n",
    "\n",
    "        if iterations % 10 == 0:\n",
    "            model.eval()\n",
    "            with torch.no_grad():\n",
    "                outputs_train = []\n",
    "                train_loss = []\n",
    "                for images, labels in train_loader:\n",
    "                    images = images.to(device)\n",
    "                    labels = labels.to(device)\n",
    "                    predictions = model(images)\n",
    "                    outputs_train.append(predictions.argmax(dim=1).long())\n",
    "                    train_loss.append(crossentropy_loss(predictions,labels))\n",
    "                outputs_train = torch.cat(outputs_train)\n",
    "                train_accuracy = (outputs_train == target_train).sum().item() / N_TRAIN\n",
    "                train_accuracy *= 100\n",
    "                train_accuracies.append(train_accuracy)\n",
    "\n",
    "                train_loss = sum(train_loss) / N_TRAIN\n",
    "                train_losses.append(train_loss)\n",
    "\n",
    "                outputs_test = []\n",
    "                test_loss = []\n",
    "                for images, labels in test_loader:\n",
    "                    images = images.to(device)\n",
    "                    labels = labels.to(device)\n",
    "                    predictions = model(images)\n",
    "                    outputs_test.append(predictions.argmax(dim=1).long())\n",
    "                    test_loss.append(crossentropy_loss(predictions,labels))\n",
    "                outputs_test = torch.cat(outputs_test)\n",
    "                test_accuracy = (outputs_test == target_test).sum().item() / N_TEST\n",
    "                test_accuracy *= 100\n",
    "                test_accuracies.append(test_accuracy)\n",
    "\n",
    "                test_loss = sum(test_loss) / N_TEST\n",
    "                test_losses.append(test_loss)\n",
    "\n",
    "        iterations += 1"
   ]
  },
  {
   "cell_type": "code",
   "execution_count": 44,
   "metadata": {},
   "outputs": [
    {
     "data": {
      "text/plain": [
       "<function matplotlib.pyplot.show(close=None, block=None)>"
      ]
     },
     "execution_count": 44,
     "metadata": {},
     "output_type": "execute_result"
    },
    {
     "data": {
      "image/png": "[encoded data removed]",
      "text/plain": [
       "<Figure size 640x480 with 1 Axes>"
      ]
     },
     "metadata": {},
     "output_type": "display_data"
    }
   ],
   "source": [
    "train_losses = list(map(lambda x: x.cpu(), train_losses))\n",
    "test_losses = list(map(lambda x: x.cpu(), test_losses))\n",
    "\n",
    "plt.plot(10*np.arange(0, len(train_losses)), train_losses, label='train_loss')\n",
    "plt.plot(10*np.arange(0, len(test_losses)), test_losses, label='test_loss')\n",
    "plt.xlabel(\"# Iterations\")\n",
    "plt.ylabel(\"Loss\")\n",
    "plt.legend()\n",
    "plt.show"
   ]
  },
  {
   "attachments": {},
   "cell_type": "markdown",
   "metadata": {},
   "source": [
    "### Model saving\n",
    "\n",
    "We need to save the model using torchscript, in order to upload the model file to the competition server.\n",
    "This may give errors for the following reason:\n",
    "\n",
    "* In your model class, or layer classes, you use numpy functions or arrays, rather than tensors.\n",
    "\n",
    "Thus make sure that you use torch tensors and functions inside these classes. Almost any numpy function\n",
    "can also be performed using torch. Look at the torch documentation for further reference."
   ]
  },
  {
   "attachments": {},
   "cell_type": "markdown",
   "metadata": {},
   "source": [
    "Saving the model to torchscript"
   ]
  },
  {
   "cell_type": "code",
   "execution_count": 45,
   "metadata": {
    "execution": {
     "iopub.status.busy": "2023-05-15T12:30:01.210786Z",
     "iopub.status.idle": "2023-05-15T12:30:01.210786Z",
     "shell.execute_reply": "2023-05-15T12:30:01.210786Z",
     "shell.execute_reply.started": "2023-05-15T12:30:01.210786Z"
    }
   },
   "outputs": [],
   "source": [
    "torch.jit.save(torch.jit.script(model), f\"b{BATCH_SIZE}e{num_epochs}l0_0001.pt\")\n"
   ]
  },
  {
   "attachments": {},
   "cell_type": "markdown",
   "metadata": {},
   "source": [
    "### Loading the model from torchscript\n",
    "\n",
    "This is what the competition server will be doing with your uploaded model."
   ]
  },
  {
   "cell_type": "code",
   "execution_count": 30,
   "metadata": {
    "execution": {
     "iopub.status.busy": "2023-05-15T12:30:01.210786Z",
     "iopub.status.idle": "2023-05-15T12:30:01.210786Z",
     "shell.execute_reply": "2023-05-15T12:30:01.210786Z",
     "shell.execute_reply.started": "2023-05-15T12:30:01.210786Z"
    }
   },
   "outputs": [],
   "source": [
    "model = torch.jit.load(\"test_model_ohe.pt\")"
   ]
  },
  {
   "cell_type": "code",
   "execution_count": null,
   "metadata": {
    "execution": {
     "iopub.status.busy": "2023-05-15T12:30:01.220140Z",
     "iopub.status.idle": "2023-05-15T12:30:01.222141Z",
     "shell.execute_reply": "2023-05-15T12:30:01.222141Z",
     "shell.execute_reply.started": "2023-05-15T12:30:01.222141Z"
    }
   },
   "outputs": [],
   "source": [
    "model(inputs)"
   ]
  },
  {
   "attachments": {},
   "cell_type": "markdown",
   "metadata": {},
   "source": [
    "### Making a PCA plot of the output space"
   ]
  },
  {
   "cell_type": "code",
   "execution_count": null,
   "metadata": {
    "execution": {
     "iopub.status.busy": "2023-05-15T12:30:01.225259Z",
     "iopub.status.idle": "2023-05-15T12:30:01.226633Z",
     "shell.execute_reply": "2023-05-15T12:30:01.225259Z",
     "shell.execute_reply.started": "2023-05-15T12:30:01.225259Z"
    }
   },
   "outputs": [],
   "source": [
    "from sklearn.decomposition import PCA\n",
    "import matplotlib.pyplot as plt"
   ]
  },
  {
   "attachments": {},
   "cell_type": "markdown",
   "metadata": {},
   "source": [
    "Below we generate some random model outptus and targets, you must replace these with your own model's\n",
    "output and the corresponding true targets."
   ]
  },
  {
   "cell_type": "code",
   "execution_count": null,
   "metadata": {
    "execution": {
     "iopub.status.busy": "2023-05-15T12:30:01.226633Z",
     "iopub.status.idle": "2023-05-15T12:30:01.230486Z",
     "shell.execute_reply": "2023-05-15T12:30:01.230486Z",
     "shell.execute_reply.started": "2023-05-15T12:30:01.230486Z"
    }
   },
   "outputs": [],
   "source": [
    "model_outputs = torch.randn(1200, 6)\n",
    "targets = torch.randint(0, 6, (1200,))"
   ]
  },
  {
   "cell_type": "code",
   "execution_count": null,
   "metadata": {
    "execution": {
     "iopub.status.busy": "2023-05-15T12:30:01.230486Z",
     "iopub.status.idle": "2023-05-15T12:30:01.234842Z",
     "shell.execute_reply": "2023-05-15T12:30:01.230486Z",
     "shell.execute_reply.started": "2023-05-15T12:30:01.230486Z"
    }
   },
   "outputs": [],
   "source": [
    "outputs_PCA = PCA(n_components=2).fit_transform(model_outputs)"
   ]
  },
  {
   "cell_type": "code",
   "execution_count": null,
   "metadata": {
    "execution": {
     "iopub.status.busy": "2023-05-15T12:30:01.236026Z",
     "iopub.status.idle": "2023-05-15T12:30:01.236026Z",
     "shell.execute_reply": "2023-05-15T12:30:01.236026Z",
     "shell.execute_reply.started": "2023-05-15T12:30:01.236026Z"
    },
    "tags": []
   },
   "outputs": [],
   "source": [
    "fig, ax = plt.subplots()\n",
    "scatter = ax.scatter(*outputs_PCA.T, c=targets, cmap=\"tab10\", alpha=0.3)\n",
    "# produce a legend with the unique colors from the scatter\n",
    "legend1 = ax.legend(*scatter.legend_elements(),\n",
    "                    loc=\"lower left\", title=\"Classes\")\n",
    "# set legend labels as languages\n",
    "for i, text in enumerate(legend1.get_texts()):\n",
    "    text.set_text(languages[i]);"
   ]
  }
 ],
 "metadata": {
  "kernelspec": {
   "display_name": "Python 3 (ipykernel)",
   "language": "python",
   "name": "python3"
  },
  "language_info": {
   "codemirror_mode": {
    "name": "ipython",
    "version": 3
   },
   "file_extension": ".py",
   "mimetype": "text/x-python",
   "name": "python",
   "nbconvert_exporter": "python",
   "pygments_lexer": "ipython3",
   "version": "3.9.13"
  }
 },
 "nbformat": 4,
 "nbformat_minor": 4
}
