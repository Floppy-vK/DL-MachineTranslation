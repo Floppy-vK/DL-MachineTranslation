{
 "cells": [
  {
   "attachments": {},
   "cell_type": "markdown",
   "metadata": {},
   "source": [
    "## Question 2 notes\n",
    "### Models"
   ]
  },
  {
   "attachments": {},
   "cell_type": "markdown",
   "metadata": {},
   "source": [
    "##### Lecture 6\n",
    "##### Typical CNN Application\n",
    " \n",
    " Building blocks:\n",
    " 1. Convolution layer\n",
    " 2. Activation layer (typically: ReLu)\n",
    " 3. Pooling or downsampling\n",
    " 4. Fully connected layer (mlp)\n",
    "\n",
    " Example order: \n",
    " - Convolution +Relu\n",
    " - Pooling\n",
    " - Convolution +Relu\n",
    " - Fully Connected\n",
    " - Fully Connected\n",
    " - output\n",
    "\n",
    " notebook example:"
   ]
  },
  {
   "cell_type": "code",
   "execution_count": null,
   "metadata": {},
   "outputs": [],
   "source": [
    "from torch import nn, optim\n",
    "\n",
    "# Create a sequential model\n",
    "model = nn.Sequential()\n",
    "\n",
    "# Add convolutional and pooling layers\n",
    "model.add_module('Conv_1', nn.Conv2d(in_channels=1, out_channels=32, kernel_size=(3,3)))\n",
    "model.add_module('Relu_1', nn.ReLU())\n",
    "model.add_module('MaxPool_1', nn.MaxPool2d(kernel_size=2))\n",
    "\n",
    "model.add_module('Conv_2', nn.Conv2d(in_channels=32, out_channels=64, kernel_size=(3,3)))\n",
    "model.add_module('Relu_2', nn.ReLU())\n",
    "model.add_module('MaxPool_2', nn.MaxPool2d(kernel_size=2))\n",
    "\n",
    "model.add_module('Conv_3', nn.Conv2d(in_channels=64, out_channels=64, kernel_size=(3,3)))\n",
    "model.add_module('Relu_3', nn.ReLU())\n",
    "\n",
    "model = model.to(device)"
   ]
  }
 ],
 "metadata": {
  "language_info": {
   "name": "python"
  },
  "orig_nbformat": 4
 },
 "nbformat": 4,
 "nbformat_minor": 2
}
